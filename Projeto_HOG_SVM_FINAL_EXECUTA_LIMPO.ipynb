{
 "cells": [
  {
   "cell_type": "code",
   "execution_count": null,
   "id": "0fe98f90",
   "metadata": {},
   "outputs": [],
   "source": [
    "from google.colab import files\n",
    "import zipfile\n",
    "import os\n",
    "\n",
    "# Upload do ZIP\n",
    "uploaded = files.upload()\n",
    "\n",
    "# Extrair o ZIP\n",
    "with zipfile.ZipFile(\"Projeto_HOG_SVM_ENTREGA.zip\", \"r\") as zip_ref:\n",
    "    zip_ref.extractall(\"Projeto_HOG_SVM_ENTREGA\")\n",
    "\n",
    "print(\"✅ ZIP extraído com sucesso!\")\n"
   ]
  },
  {
   "cell_type": "code",
   "execution_count": null,
   "id": "ef97dfbc",
   "metadata": {},
   "outputs": [],
   "source": [
    "import os\n",
    "import cv2\n",
    "import numpy as np\n",
    "from sklearn.model_selection import train_test_split\n",
    "from sklearn.svm import SVC\n",
    "from sklearn.preprocessing import LabelEncoder\n",
    "from sklearn.metrics import classification_report, confusion_matrix, accuracy_score\n",
    "import seaborn as sns\n",
    "import matplotlib.pyplot as plt\n",
    "\n",
    "# Caminho para dataset\n",
    "dataset_path = '/content/Projeto_HOG_SVM_ENTREGA/coffee_dataset_corrigido/train'\n",
    "classes = ['arabica', 'robusta']\n"
   ]
  },
  {
   "cell_type": "code",
   "execution_count": null,
   "id": "ab61edcc",
   "metadata": {},
   "outputs": [],
   "source": [
    "X_hog = []\n",
    "y = []\n",
    "\n",
    "hog = cv2.HOGDescriptor()\n",
    "\n",
    "for label, class_name in enumerate(classes):\n",
    "    class_dir = os.path.join(dataset_path, class_name)\n",
    "    for img_name in os.listdir(class_dir):\n",
    "        img_path = os.path.join(class_dir, img_name)\n",
    "        img = cv2.imread(img_path, cv2.IMREAD_GRAYSCALE)\n",
    "        if img is not None:\n",
    "            img = cv2.resize(img, (64, 128))\n",
    "            features = hog.compute(img)\n",
    "            X_hog.append(features.flatten())\n",
    "            y.append(label)\n"
   ]
  },
  {
   "cell_type": "code",
   "execution_count": null,
   "id": "731cf75c",
   "metadata": {},
   "outputs": [],
   "source": [
    "X = np.array(X_hog)\n",
    "y = np.array(y)\n",
    "\n",
    "label_encoder = LabelEncoder()\n",
    "y_encoded = label_encoder.fit_transform(y)\n",
    "\n",
    "X_train, X_test, y_train, y_test = train_test_split(X, y_encoded, test_size=0.2, random_state=42)\n",
    "\n",
    "model = SVC(kernel=\"linear\")\n",
    "model.fit(X_train, y_train)\n",
    "\n",
    "y_pred = model.predict(X_test)\n",
    "\n",
    "acc = accuracy_score(y_test, y_pred)\n",
    "print(\"Acurácia: {:.2f}%\".format(acc * 100))\n",
    "\n",
    "print(\"\\nRelatório de Classificação:\")\n",
    "print(classification_report(y_test, y_pred, target_names=label_encoder.classes_))\n",
    "\n",
    "cm = confusion_matrix(y_test, y_pred)\n",
    "sns.heatmap(cm, annot=True, fmt='d', xticklabels=label_encoder.classes_, yticklabels=label_encoder.classes_, cmap=\"Blues\")\n",
    "plt.xlabel('Predito')\n",
    "plt.ylabel('Real')\n",
    "plt.title('Matriz de Confusão')\n",
    "plt.show()\n"
   ]
  }
 ],
 "metadata": {},
 "nbformat": 4,
 "nbformat_minor": 5
}
