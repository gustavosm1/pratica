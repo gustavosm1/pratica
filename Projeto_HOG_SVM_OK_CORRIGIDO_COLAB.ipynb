{
 "cells": [
  {
   "cell_type": "code",
   "execution_count": 1,
   "id": "ffc839a6",
   "metadata": {
    "execution": {
     "iopub.execute_input": "2025-06-25T11:59:34.764412Z",
     "iopub.status.busy": "2025-06-25T11:59:34.763688Z",
     "iopub.status.idle": "2025-06-25T11:59:34.770760Z",
     "shell.execute_reply": "2025-06-25T11:59:34.769566Z"
    }
   },
   "outputs": [],
   "source": [
    "# Projeto Final - Processamento de Imagens - HOG + SVM (Refeito)"
   ]
  },
  {
   "cell_type": "code",
   "execution_count": 2,
   "id": "775ffa95",
   "metadata": {
    "execution": {
     "iopub.execute_input": "2025-06-25T11:59:34.776320Z",
     "iopub.status.busy": "2025-06-25T11:59:34.775773Z",
     "iopub.status.idle": "2025-06-25T11:59:38.027999Z",
     "shell.execute_reply": "2025-06-25T11:59:38.026560Z"
    }
   },
   "outputs": [],
   "source": [
    "## 1. Bibliotecas\n",
    "import cv2\n",
    "import numpy as np\n",
    "import os\n",
    "import matplotlib.pyplot as plt\n",
    "from sklearn.model_selection import train_test_split\n",
    "from sklearn.svm import SVC\n",
    "from sklearn.metrics import confusion_matrix, classification_report, accuracy_score\n",
    "\n",
    "import zipfile"
   ]
  },
  {
   "cell_type": "code",
   "execution_count": 3,
   "id": "9e6d4a1a",
   "metadata": {
    "execution": {
     "iopub.execute_input": "2025-06-25T11:59:38.036276Z",
     "iopub.status.busy": "2025-06-25T11:59:38.035473Z",
     "iopub.status.idle": "2025-06-25T11:59:38.062623Z",
     "shell.execute_reply": "2025-06-25T11:59:38.061761Z"
    }
   },
   "outputs": [],
   "source": [
    "\n",
    "import os\n",
    "import cv2\n",
    "import numpy as np\n",
    "\n",
    "# Caminho para o dataset corrigido\n",
    "dataset_path = '/mnt/data//content/Projeto_HOG_SVM_ENTREGA/coffee_dataset_corrigido/train'\n",
    "classes = ['arabica', 'robusta']\n",
    "\n",
    "X_hog = []\n",
    "y = []\n",
    "\n",
    "# HOG descriptor\n",
    "hog = cv2.HOGDescriptor()\n",
    "\n",
    "for label, class_name in enumerate(classes):\n",
    "    class_dir = os.path.join(dataset_path, class_name)\n",
    "    for img_name in os.listdir(class_dir):\n",
    "        img_path = os.path.join(class_dir, img_name)\n",
    "        img = cv2.imread(img_path, cv2.IMREAD_GRAYSCALE)\n",
    "        if img is not None:\n",
    "            img = cv2.resize(img, (64, 128))\n",
    "            features = hog.compute(img)\n",
    "            X_hog.append(features.flatten())\n",
    "            y.append(label)\n"
   ]
  },
  {
   "cell_type": "code",
   "execution_count": 4,
   "id": "4389331d",
   "metadata": {
    "execution": {
     "iopub.execute_input": "2025-06-25T11:59:38.068487Z",
     "iopub.status.busy": "2025-06-25T11:59:38.068018Z",
     "iopub.status.idle": "2025-06-25T11:59:38.073257Z",
     "shell.execute_reply": "2025-06-25T11:59:38.072290Z"
    }
   },
   "outputs": [],
   "source": [
    "# Upload manual removido para ambiente local\n",
    "# Substituído por leitura de imagens da pasta 'train'"
   ]
  },
  {
   "cell_type": "code",
   "execution_count": 5,
   "id": "fcfed461",
   "metadata": {
    "execution": {
     "iopub.execute_input": "2025-06-25T11:59:38.077790Z",
     "iopub.status.busy": "2025-06-25T11:59:38.077459Z",
     "iopub.status.idle": "2025-06-25T11:59:38.084792Z",
     "shell.execute_reply": "2025-06-25T11:59:38.083775Z"
    }
   },
   "outputs": [],
   "source": [
    "## 3. Carregamento das imagens\n",
    "def load_images_and_labels(data_dir):\n",
    "    X, y = [], []\n",
    "    for label in os.listdir(data_dir):\n",
    "        class_dir = os.path.join(data_dir, label)\n",
    "        if not os.path.isdir(class_dir):\n",
    "            continue\n",
    "        for file in os.listdir(class_dir):\n",
    "            path = os.path.join(class_dir, file)\n",
    "            img = cv2.imread(path, cv2.IMREAD_GRAYSCALE)\n",
    "            if img is None:\n",
    "                continue\n",
    "            img = cv2.resize(img, (128, 128))\n",
    "            X.append(img)\n",
    "            y.append(label)\n",
    "    return X, y"
   ]
  },
  {
   "cell_type": "code",
   "execution_count": 6,
   "id": "1778e758",
   "metadata": {
    "execution": {
     "iopub.execute_input": "2025-06-25T11:59:38.089356Z",
     "iopub.status.busy": "2025-06-25T11:59:38.088757Z",
     "iopub.status.idle": "2025-06-25T11:59:38.736936Z",
     "shell.execute_reply": "2025-06-25T11:59:38.735188Z"
    }
   },
   "outputs": [
    {
     "ename": "FileNotFoundError",
     "evalue": "[Errno 2] No such file or directory: 'dataset/train'",
     "output_type": "error",
     "traceback": [
      "\u001b[31m---------------------------------------------------------------------------\u001b[39m",
      "\u001b[31mFileNotFoundError\u001b[39m                         Traceback (most recent call last)",
      "\u001b[36mCell\u001b[39m\u001b[36m \u001b[39m\u001b[32mIn[6]\u001b[39m\u001b[32m, line 1\u001b[39m\n\u001b[32m----> \u001b[39m\u001b[32m1\u001b[39m X, y = \u001b[43mload_images_and_labels\u001b[49m\u001b[43m(\u001b[49m\u001b[33;43m\"\u001b[39;49m\u001b[33;43mdataset/train\u001b[39;49m\u001b[33;43m\"\u001b[39;49m\u001b[43m)\u001b[49m\n",
      "\u001b[36mCell\u001b[39m\u001b[36m \u001b[39m\u001b[32mIn[5]\u001b[39m\u001b[32m, line 4\u001b[39m, in \u001b[36mload_images_and_labels\u001b[39m\u001b[34m(data_dir)\u001b[39m\n\u001b[32m      2\u001b[39m \u001b[38;5;28;01mdef\u001b[39;00m\u001b[38;5;250m \u001b[39m\u001b[34mload_images_and_labels\u001b[39m(data_dir):\n\u001b[32m      3\u001b[39m     X, y = [], []\n\u001b[32m----> \u001b[39m\u001b[32m4\u001b[39m     \u001b[38;5;28;01mfor\u001b[39;00m label \u001b[38;5;129;01min\u001b[39;00m \u001b[43mos\u001b[49m\u001b[43m.\u001b[49m\u001b[43mlistdir\u001b[49m\u001b[43m(\u001b[49m\u001b[43mdata_dir\u001b[49m\u001b[43m)\u001b[49m:\n\u001b[32m      5\u001b[39m         class_dir = os.path.join(data_dir, label)\n\u001b[32m      6\u001b[39m         \u001b[38;5;28;01mif\u001b[39;00m \u001b[38;5;129;01mnot\u001b[39;00m os.path.isdir(class_dir):\n",
      "\u001b[31mFileNotFoundError\u001b[39m: [Errno 2] No such file or directory: 'dataset/train'"
     ]
    }
   ],
   "source": [
    "X, y = load_images_and_labels(\"/mnt/data//content/Projeto_HOG_SVM_ENTREGA/coffee_dataset_corrigido/train\")"
   ]
  },
  {
   "cell_type": "code",
   "execution_count": null,
   "id": "562ea334",
   "metadata": {},
   "outputs": [],
   "source": [
    "## 4. HOG\n",
    "hog = cv2.HOGDescriptor()\n",
    "X_hog = [hog.compute(img).flatten() for img in X]\n",
    "X_hog = np.array(X_hog)\n",
    "y = np.array(y)"
   ]
  },
  {
   "cell_type": "code",
   "execution_count": null,
   "id": "7dfa5816",
   "metadata": {},
   "outputs": [],
   "source": [
    "## 5. Treinamento e Avaliação\n",
    "X_train, X_test, y_train, y_test = train_test_split(X_hog, y, test_size=0.2, random_state=42)\n",
    "clf = SVC(kernel='linear')\n",
    "clf.fit(X_train, y_train)\n",
    "y_pred = clf.predict(X_test)"
   ]
  },
  {
   "cell_type": "code",
   "execution_count": null,
   "id": "fd89351a",
   "metadata": {},
   "outputs": [],
   "source": [
    "print(\"Acurácia:\", accuracy_score(y_test, y_pred))\n",
    "print(\"Relatório de Classificação:\\n\", classification_report(y_test, y_pred))\n",
    "print(\"Matriz de Confusão:\\n\", confusion_matrix(y_test, y_pred))"
   ]
  },
  {
   "cell_type": "code",
   "execution_count": null,
   "id": "6800232a",
   "metadata": {},
   "outputs": [],
   "source": [
    "\n",
    "from sklearn.model_selection import train_test_split\n",
    "from sklearn.svm import SVC\n",
    "from sklearn.metrics import accuracy_score, classification_report, confusion_matrix\n",
    "\n",
    "# Certifique-se que X_hog e y estão bem definidos\n",
    "print(f\"Quantidade de amostras: {len(X_hog)} descritores, {len(y)} rótulos\")\n",
    "\n",
    "if len(X_hog) > 0 and len(y) == len(X_hog):\n",
    "    # Divisão dos dados\n",
    "    X_train, X_test, y_train, y_test = train_test_split(X_hog, y, test_size=0.2, random_state=42)\n",
    "\n",
    "    # Treinamento\n",
    "    clf = SVC(kernel='linear')\n",
    "    clf.fit(X_train, y_train)\n",
    "\n",
    "    # Predição\n",
    "    y_pred = clf.predict(X_test)\n",
    "\n",
    "    # Avaliação\n",
    "    print(\"Acurácia:\", accuracy_score(y_test, y_pred))\n",
    "    print(\"Relatório de Classificação:\\n\", classification_report(y_test, y_pred))\n",
    "    print(\"Matriz de Confusão:\\n\", confusion_matrix(y_test, y_pred))\n",
    "else:\n",
    "    print(\"Erro: X_hog está vazio ou o número de rótulos não corresponde.\")\n"
   ]
  }
 ],
 "metadata": {
  "language_info": {
   "codemirror_mode": {
    "name": "ipython",
    "version": 3
   },
   "file_extension": ".py",
   "mimetype": "text/x-python",
   "name": "python",
   "nbconvert_exporter": "python",
   "pygments_lexer": "ipython3",
   "version": "3.11.8"
  }
 },
 "nbformat": 4,
 "nbformat_minor": 5
}
