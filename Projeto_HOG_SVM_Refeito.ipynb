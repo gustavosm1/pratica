{
 "cells": [
  {
   "cell_type": "code",
   "execution_count": null,
   "id": "ffc839a6",
   "metadata": {},
   "outputs": [],
   "source": [
    "# Projeto Final - Processamento de Imagens - HOG + SVM (Refeito)"
   ]
  },
  {
   "cell_type": "code",
   "execution_count": null,
   "id": "775ffa95",
   "metadata": {},
   "outputs": [],
   "source": [
    "## 1. Bibliotecas\n",
    "import cv2\n",
    "import numpy as np\n",
    "import os\n",
    "import matplotlib.pyplot as plt\n",
    "from sklearn.model_selection import train_test_split\n",
    "from sklearn.svm import SVC\n",
    "from sklearn.metrics import confusion_matrix, classification_report, accuracy_score\n",
    "from google.colab import files\n",
    "import zipfile"
   ]
  },
  {
   "cell_type": "code",
   "execution_count": null,
   "id": "4389331d",
   "metadata": {},
   "outputs": [],
   "source": [
    "## 2. Upload do ZIP\n",
    "print(\"Faça upload do arquivo .zip do dataset (ex: coffee_dataset_refeito.zip):\")\n",
    "uploaded = files.upload()"
   ]
  },
  {
   "cell_type": "code",
   "execution_count": null,
   "id": "9a97e13b",
   "metadata": {},
   "outputs": [],
   "source": [
    "for filename in uploaded.keys():\n",
    "    with zipfile.ZipFile(filename, 'r') as zip_ref:\n",
    "        zip_ref.extractall(\"dataset\")"
   ]
  },
  {
   "cell_type": "code",
   "execution_count": null,
   "id": "fcfed461",
   "metadata": {},
   "outputs": [],
   "source": [
    "## 3. Carregamento das imagens\n",
    "def load_images_and_labels(data_dir):\n",
    "    X, y = [], []\n",
    "    for label in os.listdir(data_dir):\n",
    "        class_dir = os.path.join(data_dir, label)\n",
    "        if not os.path.isdir(class_dir):\n",
    "            continue\n",
    "        for file in os.listdir(class_dir):\n",
    "            path = os.path.join(class_dir, file)\n",
    "            img = cv2.imread(path, cv2.IMREAD_GRAYSCALE)\n",
    "            if img is None:\n",
    "                continue\n",
    "            img = cv2.resize(img, (128, 128))\n",
    "            X.append(img)\n",
    "            y.append(label)\n",
    "    return X, y"
   ]
  },
  {
   "cell_type": "code",
   "execution_count": null,
   "id": "1778e758",
   "metadata": {},
   "outputs": [],
   "source": [
    "X, y = load_images_and_labels(\"dataset/train\")"
   ]
  },
  {
   "cell_type": "code",
   "execution_count": null,
   "id": "562ea334",
   "metadata": {},
   "outputs": [],
   "source": [
    "## 4. HOG\n",
    "hog = cv2.HOGDescriptor()\n",
    "X_hog = [hog.compute(img).flatten() for img in X]\n",
    "X_hog = np.array(X_hog)\n",
    "y = np.array(y)"
   ]
  },
  {
   "cell_type": "code",
   "execution_count": null,
   "id": "7dfa5816",
   "metadata": {},
   "outputs": [],
   "source": [
    "## 5. Treinamento e Avaliação\n",
    "X_train, X_test, y_train, y_test = train_test_split(X_hog, y, test_size=0.2, random_state=42)\n",
    "clf = SVC(kernel='linear')\n",
    "clf.fit(X_train, y_train)\n",
    "y_pred = clf.predict(X_test)"
   ]
  },
  {
   "cell_type": "code",
   "execution_count": null,
   "id": "fd89351a",
   "metadata": {},
   "outputs": [],
   "source": [
    "print(\"Acurácia:\", accuracy_score(y_test, y_pred))\n",
    "print(\"Relatório de Classificação:\\n\", classification_report(y_test, y_pred))\n",
    "print(\"Matriz de Confusão:\\n\", confusion_matrix(y_test, y_pred))"
   ]
  }
 ],
 "metadata": {},
 "nbformat": 4,
 "nbformat_minor": 5
}
