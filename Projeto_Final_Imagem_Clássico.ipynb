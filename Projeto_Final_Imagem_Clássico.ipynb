
# Projeto Final - Processamento de Imagens (2025-1)
# Classificação de Grãos de Café com HOG + LBP
# Aluno: Gustavo Machado

# --- INSTALAÇÃO E IMPORTAÇÃO DE BIBLIOTECAS ---
!pip install scikit-image --quiet

import os
import numpy as np
import matplotlib.pyplot as plt
from skimage.feature import hog, local_binary_pattern
from skimage.color import rgb2gray
from skimage.io import imread
from sklearn.model_selection import train_test_split
from sklearn.preprocessing import LabelEncoder
from sklearn.ensemble import RandomForestClassifier
from sklearn.svm import SVC
from sklearn.metrics import classification_report, confusion_matrix, ConfusionMatrixDisplay
import zipfile
import glob

# --- ENVIO DO DATASET MANUALMENTE ---
from google.colab import files
uploaded = files.upload()

# Após o upload do arquivo zipado do Coffee Bean Dataset (coffee-bean-dataset-resized-224-x-224.zip)
zip_path = 'coffee-bean-dataset-resized-224-x-224.zip'
with zipfile.ZipFile(zip_path, 'r') as zip_ref:
    zip_ref.extractall('coffee_data')

# --- LEITURA E PRÉ-PROCESSAMENTO DAS IMAGENS ---
def extract_features(image_path):
    image = imread(image_path)
    gray = rgb2gray(image)
    hog_features, _ = hog(gray, pixels_per_cell=(16, 16),
                          cells_per_block=(2, 2), visualize=True)
    lbp = local_binary_pattern(gray, P=8, R=1, method="uniform")
    lbp_hist, _ = np.histogram(lbp.ravel(), bins=np.arange(0, 11), density=True)
    return np.concatenate([hog_features, lbp_hist])

X, y = [], []
for class_dir in os.listdir('coffee_data/Coffee Bean Dataset'):
    class_path = os.path.join('coffee_data/Coffee Bean Dataset', class_dir)
    for img_path in glob.glob(os.path.join(class_path, '*.jpg')):
        features = extract_features(img_path)
        X.append(features)
        y.append(class_dir)

X = np.array(X)
y = LabelEncoder().fit_transform(y)

# --- TREINAMENTO E TESTE ---
X_train, X_test, y_train, y_test = train_test_split(X, y, test_size=0.2, random_state=42)

# SVM
svm_model = SVC(kernel='linear')
svm_model.fit(X_train, y_train)
svm_pred = svm_model.predict(X_test)

# Random Forest
rf_model = RandomForestClassifier(n_estimators=100)
rf_model.fit(X_train, y_train)
rf_pred = rf_model.predict(X_test)

# --- AVALIAÇÃO ---
def evaluate_model(name, y_true, y_pred):
    print(f"Relatório de Classificação - {name}")
    print(classification_report(y_true, y_pred))
    cm = confusion_matrix(y_true, y_pred)
    disp = ConfusionMatrixDisplay(confusion_matrix=cm)
    disp.plot()
    plt.title(f'Matriz de Confusão - {name}')
    plt.show()

evaluate_model("SVM", y_test, svm_pred)
evaluate_model("Random Forest", y_test, rf_pred)
